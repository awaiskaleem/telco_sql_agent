{
 "cells": [
  {
   "cell_type": "code",
   "execution_count": 1,
   "metadata": {},
   "outputs": [
    {
     "data": {
      "text/plain": [
       "True"
      ]
     },
     "execution_count": 1,
     "metadata": {},
     "output_type": "execute_result"
    }
   ],
   "source": [
    "from dotenv import load_dotenv\n",
    "load_dotenv('../.env') # replace with your .env file"
   ]
  },
  {
   "cell_type": "code",
   "execution_count": 2,
   "metadata": {},
   "outputs": [
    {
     "name": "stdout",
     "output_type": "stream",
     "text": [
      "sqlite\n",
      "['Billing', 'Complaints', 'Customers', 'Devices', 'Employees', 'Locations', 'Messages', 'Notifications', 'Orders', 'Payments', 'Plans', 'Repairs', 'Services', 'Subscriptions', 'Usage']\n"
     ]
    },
    {
     "data": {
      "text/plain": [
       "\"[(1, 'John Doe', '123 Main St, Anytown, USA', '+1234567890'), (2, 'Alice Smith', '456 Elm St, Otherville, USA', '+1987654321'), (3, 'Bob Johnson', '789 Oak St, Anycity, USA', '+1122334455'), (4, 'Emily Brown', '321 Pine St, Newville, USA', '+1555666777'), (5, 'Michael Wilson', '654 Maple St, Anothercity, USA', '+1444222111'), (6, 'Sarah Davis', '987 Cedar St, Someplace, USA', '+1999888777'), (7, 'David Martinez', '234 Birch St, Elsewhere, USA', '+1666333444'), (8, 'Jennifer Taylor', '876 Walnut St, Nowhere, USA', '+1888999000'), (9, 'James Rodriguez', '543 Spruce St, Anywhere, USA', '+1777666555'), (10, 'Emma Thomas', '210 Cherry St, Somewhere, USA', '+1222111333')]\""
      ]
     },
     "execution_count": 2,
     "metadata": {},
     "output_type": "execute_result"
    }
   ],
   "source": [
    "from langchain_community.utilities import SQLDatabase\n",
    "\n",
    "db = SQLDatabase.from_uri(\"sqlite:///Telco.db\")\n",
    "print(db.dialect)\n",
    "print(db.get_usable_table_names())\n",
    "db.run(\"SELECT * FROM Customers LIMIT 10;\")"
   ]
  },
  {
   "cell_type": "code",
   "execution_count": 3,
   "metadata": {},
   "outputs": [],
   "source": [
    "from langchain_community.agent_toolkits import create_sql_agent\n",
    "from langchain_openai import ChatOpenAI\n",
    "\n",
    "llm = ChatOpenAI(model=\"gpt-3.5-turbo\", temperature=0)\n",
    "agent_executor = create_sql_agent(llm, db=db, agent_type=\"openai-tools\", verbose=True)"
   ]
  },
  {
   "cell_type": "code",
   "execution_count": 4,
   "metadata": {},
   "outputs": [
    {
     "name": "stdout",
     "output_type": "stream",
     "text": [
      "\n",
      "\n",
      "\u001b[1m> Entering new SQL Agent Executor chain...\u001b[0m\n",
      "\u001b[32;1m\u001b[1;3m\n",
      "Invoking: `sql_db_list_tables` with ``\n",
      "\n",
      "\n",
      "\u001b[0m\u001b[38;5;200m\u001b[1;3mBilling, Complaints, Customers, Devices, Employees, Locations, Messages, Notifications, Orders, Payments, Plans, Repairs, Services, Subscriptions, Usage\u001b[0m\u001b[32;1m\u001b[1;3m\n",
      "Invoking: `sql_db_schema` with `{'table_names': 'Customers, Payments'}`\n",
      "\n",
      "\n",
      "\u001b[0m\u001b[33;1m\u001b[1;3m\n",
      "CREATE TABLE \"Customers\" (\n",
      "\tcustomer_id INTEGER, \n",
      "\tname TEXT, \n",
      "\taddress TEXT, \n",
      "\tcontact_number TEXT, \n",
      "\tPRIMARY KEY (customer_id)\n",
      ")\n",
      "\n",
      "/*\n",
      "3 rows from Customers table:\n",
      "customer_id\tname\taddress\tcontact_number\n",
      "1\tJohn Doe\t123 Main St, Anytown, USA\t+1234567890\n",
      "2\tAlice Smith\t456 Elm St, Otherville, USA\t+1987654321\n",
      "3\tBob Johnson\t789 Oak St, Anycity, USA\t+1122334455\n",
      "*/\n",
      "\n",
      "\n",
      "CREATE TABLE \"Payments\" (\n",
      "\tpayment_id INTEGER, \n",
      "\tcustomer_id INTEGER, \n",
      "\tpayment_date DATE, \n",
      "\tamount REAL, \n",
      "\tpayment_method TEXT, \n",
      "\tPRIMARY KEY (payment_id), \n",
      "\tFOREIGN KEY(customer_id) REFERENCES \"Customers\" (customer_id)\n",
      ")\n",
      "\n",
      "/*\n",
      "3 rows from Payments table:\n",
      "payment_id\tcustomer_id\tpayment_date\tamount\tpayment_method\n",
      "1\t1\t2024-03-25\t29.99\tCredit Card\n",
      "2\t2\t2024-03-25\t49.99\tPayPal\n",
      "3\t3\t2024-03-25\t79.99\tBank Transfer\n",
      "*/\u001b[0m\u001b[32;1m\u001b[1;3m\n",
      "Invoking: `sql_db_query` with `SELECT c.name AS customer_name, SUM(p.amount) AS total_bill FROM Customers c JOIN Payments p ON c.customer_id = p.customer_id GROUP BY c.name ORDER BY total_bill DESC`\n",
      "\n",
      "\n",
      "\u001b[0m\u001b[36;1m\u001b[1;3m[('Sarah Davis', 239.96999999999997), ('James Rodriguez', 239.96999999999997), ('Bob Johnson', 239.96999999999997), ('Michael Wilson', 149.97), ('Jennifer Taylor', 149.97), ('Alice Smith', 149.97), ('John Doe', 89.97), ('Emma Thomas', 89.97), ('Emily Brown', 89.97), ('David Martinez', 89.97)]\u001b[0m\u001b[32;1m\u001b[1;3mThe total bill per customer is as follows:\n",
      "1. Sarah Davis - $239.97\n",
      "2. James Rodriguez - $239.97\n",
      "3. Bob Johnson - $239.97\n",
      "4. Michael Wilson - $149.97\n",
      "5. Jennifer Taylor - $149.97\n",
      "6. Alice Smith - $149.97\n",
      "7. John Doe - $89.97\n",
      "8. Emma Thomas - $89.97\n",
      "9. Emily Brown - $89.97\n",
      "10. David Martinez - $89.97\n",
      "\n",
      "The customers with the most payments are Sarah Davis, James Rodriguez, and Bob Johnson, each with a total bill of $239.97.\u001b[0m\n",
      "\n",
      "\u001b[1m> Finished chain.\u001b[0m\n"
     ]
    },
    {
     "data": {
      "text/plain": [
       "{'input': 'List the total bill per customer. Which customer has the most in Payments?',\n",
       " 'output': 'The total bill per customer is as follows:\\n1. Sarah Davis - $239.97\\n2. James Rodriguez - $239.97\\n3. Bob Johnson - $239.97\\n4. Michael Wilson - $149.97\\n5. Jennifer Taylor - $149.97\\n6. Alice Smith - $149.97\\n7. John Doe - $89.97\\n8. Emma Thomas - $89.97\\n9. Emily Brown - $89.97\\n10. David Martinez - $89.97\\n\\nThe customers with the most payments are Sarah Davis, James Rodriguez, and Bob Johnson, each with a total bill of $239.97.'}"
      ]
     },
     "execution_count": 4,
     "metadata": {},
     "output_type": "execute_result"
    }
   ],
   "source": [
    "agent_executor.invoke(\n",
    "    \"List the total bill per customer. Which customer has the most in Payments?\"\n",
    ")"
   ]
  },
  {
   "cell_type": "code",
   "execution_count": 5,
   "metadata": {},
   "outputs": [
    {
     "name": "stdout",
     "output_type": "stream",
     "text": [
      "\n",
      "\n",
      "\u001b[1m> Entering new SQL Agent Executor chain...\u001b[0m\n",
      "\u001b[32;1m\u001b[1;3m\n",
      "Invoking: `sql_db_list_tables` with ``\n",
      "\n",
      "\n",
      "\u001b[0m\u001b[38;5;200m\u001b[1;3mBilling, Complaints, Customers, Devices, Employees, Locations, Messages, Notifications, Orders, Payments, Plans, Repairs, Services, Subscriptions, Usage\u001b[0m\u001b[32;1m\u001b[1;3m\n",
      "Invoking: `sql_db_schema` with `{'table_names': 'Subscriptions,Plans'}`\n",
      "\n",
      "\n",
      "\u001b[0m\u001b[33;1m\u001b[1;3m\n",
      "CREATE TABLE \"Plans\" (\n",
      "\tplan_id INTEGER, \n",
      "\tplan_name TEXT, \n",
      "\tdescription TEXT, \n",
      "\tprice REAL, \n",
      "\tPRIMARY KEY (plan_id)\n",
      ")\n",
      "\n",
      "/*\n",
      "3 rows from Plans table:\n",
      "plan_id\tplan_name\tdescription\tprice\n",
      "1\tBasic\tBasic plan with limited data and minutes\t29.99\n",
      "2\tStandard\tStandard plan with moderate data and minutes\t49.99\n",
      "3\tPremium\tPremium plan with unlimited data and minutes\t79.99\n",
      "*/\n",
      "\n",
      "\n",
      "CREATE TABLE \"Subscriptions\" (\n",
      "\tsubscription_id INTEGER, \n",
      "\tcustomer_id INTEGER, \n",
      "\tplan_id INTEGER, \n",
      "\tservice_id INTEGER, \n",
      "\tstart_date DATE, \n",
      "\tend_date DATE, \n",
      "\tPRIMARY KEY (subscription_id), \n",
      "\tFOREIGN KEY(customer_id) REFERENCES \"Customers\" (customer_id), \n",
      "\tFOREIGN KEY(plan_id) REFERENCES \"Plans\" (plan_id), \n",
      "\tFOREIGN KEY(service_id) REFERENCES \"Services\" (service_id)\n",
      ")\n",
      "\n",
      "/*\n",
      "3 rows from Subscriptions table:\n",
      "subscription_id\tcustomer_id\tplan_id\tservice_id\tstart_date\tend_date\n",
      "1\t1\t1\tNone\t2024-01-01\t2024-12-31\n",
      "2\t2\t2\tNone\t2024-01-15\t2024-12-31\n",
      "3\t3\t3\tNone\t2024-02-01\t2024-12-31\n",
      "*/\u001b[0m\u001b[32;1m\u001b[1;3m\n",
      "Invoking: `sql_db_query` with `SELECT plan_name, COUNT(*) as subscription_count FROM Subscriptions JOIN Plans ON Subscriptions.plan_id = Plans.plan_id GROUP BY plan_name ORDER BY subscription_count DESC LIMIT 1`\n",
      "\n",
      "\n",
      "\u001b[0m\u001b[36;1m\u001b[1;3m[('Basic', 4)]\u001b[0m\u001b[32;1m\u001b[1;3mThe most popular plan is the \"Basic\" plan, with 4 subscriptions.\u001b[0m\n",
      "\n",
      "\u001b[1m> Finished chain.\u001b[0m\n"
     ]
    },
    {
     "data": {
      "text/plain": [
       "{'input': 'Which Plan is the most popular?',\n",
       " 'output': 'The most popular plan is the \"Basic\" plan, with 4 subscriptions.'}"
      ]
     },
     "execution_count": 5,
     "metadata": {},
     "output_type": "execute_result"
    }
   ],
   "source": [
    "agent_executor.invoke(\"Which Plan is the most popular?\")"
   ]
  },
  {
   "cell_type": "code",
   "execution_count": 37,
   "metadata": {},
   "outputs": [],
   "source": [
    "examples = [\n",
    "    {\"input\": \"List all subscription plans.\", \"query\": \"SELECT * FROM Plans;\"},\n",
    "    {\"input\": \"What is the name for plan_id 1?\", \"query\": \"SELECT plan_name FROM Plans where plan_id=1;\"},\n",
    "    {\n",
    "        \"input\": \"Find all customers for the plan 'Basic'.\",\n",
    "        \"query\": \"\"\"\n",
    "                    SELECT * FROM Customers\n",
    "                    WHERE customer_id IN (\n",
    "                        SELECT customer_id FROM Subscriptions\n",
    "                        WHERE plan_id = (\n",
    "                            SELECT plan_id FROM Plans WHERE plan_name = 'Basic'\n",
    "                            );\n",
    "                    );\n",
    "                \"\"\",\n",
    "    },\n",
    "    {\n",
    "        \"input\": \"List all locations with 'International Roaming' service active.\",\n",
    "        \"query\": \"\"\"\n",
    "            SELECT DISTINCT L.location_name\n",
    "            FROM Locations L\n",
    "            JOIN Devices D ON L.location_id = D.location_id\n",
    "            JOIN Subscriptions S ON D.customer_id = S.customer_id\n",
    "            JOIN Services SER ON S.service_id = SER.service_id\n",
    "            WHERE SER.service_name = 'International Roaming';\n",
    "            \"\"\",\n",
    "    },\n",
    "    {\n",
    "        \"input\": \"Find the total duration of all the calls made in each month.\",\n",
    "        \"query\": \"\"\"\n",
    "        SELECT\n",
    "            strftime('%Y-%m', M.sent_date) AS month,\n",
    "            SUM(U.duration) AS total_duration\n",
    "        FROM\n",
    "            Messages M\n",
    "        JOIN\n",
    "            Usage U ON M.sender_id = U.customer_id\n",
    "        GROUP BY\n",
    "            month\n",
    "        ORDER BY\n",
    "            month;\n",
    "        \"\"\",\n",
    "    },\n",
    "    {\n",
    "        \"input\": \"Who are the top 5 customers by total payments?\",\n",
    "        \"query\": \"\"\"SELECT\n",
    "                    customer_id,\n",
    "                    SUM(amount) AS total_payments\n",
    "                FROM\n",
    "                    Payments\n",
    "                GROUP BY\n",
    "                    customer_id\n",
    "                ORDER BY\n",
    "                    total_payments DESC\n",
    "                LIMIT 5;\n",
    "            \"\"\",\n",
    "    },\n",
    "    {\n",
    "        \"input\": \"How many employees are there\",\n",
    "        \"query\": \"\"\"SELECT COUNT(*) FROM 'Employees'\"\"\",\n",
    "    },\n",
    "    {\n",
    "        \"input\": \"What is the plan of customer Bob?\",\n",
    "        \"query\": \"\"\"SELECT\n",
    "                    P.plan_name\n",
    "                FROM\n",
    "                    Customers C\n",
    "                JOIN\n",
    "                    Subscriptions S ON C.customer_id = S.customer_id\n",
    "                JOIN\n",
    "                    Plans P ON S.plan_id = P.plan_id\n",
    "                WHERE\n",
    "                    C.name = 'Bob';\n",
    "                    \"\"\"\n",
    "    },\n",
    "]"
   ]
  },
  {
   "cell_type": "code",
   "execution_count": 33,
   "metadata": {},
   "outputs": [],
   "source": [
    "from langchain_community.vectorstores import FAISS\n",
    "from langchain_core.example_selectors import SemanticSimilarityExampleSelector\n",
    "from langchain_openai import OpenAIEmbeddings\n",
    "\n",
    "example_selector = SemanticSimilarityExampleSelector.from_examples(\n",
    "    examples,\n",
    "    OpenAIEmbeddings(),\n",
    "    FAISS,\n",
    "    k=5,\n",
    "    input_keys=[\"input\"],\n",
    ")\n",
    "\n",
    "from langchain_core.prompts import (\n",
    "    ChatPromptTemplate,\n",
    "    FewShotPromptTemplate,\n",
    "    MessagesPlaceholder,\n",
    "    PromptTemplate,\n",
    "    SystemMessagePromptTemplate,\n",
    ")\n",
    "\n",
    "system_prefix = \"\"\"You are an agent designed to interact with a SQL database.\n",
    "Given an input question, create a syntactically correct {dialect} query to run, then look at the results of the query and return the answer.\n",
    "Unless the user specifies a specific number of examples they wish to obtain, always limit your query to at most {top_k} results.\n",
    "You can order the results by a relevant column to return the most interesting examples in the database.\n",
    "Never query for all the columns from a specific table, only ask for the relevant columns given the question.\n",
    "You have access to tools for interacting with the database.\n",
    "Only use the given tools. Only use the information returned by the tools to construct your final answer.\n",
    "You MUST double check your query before executing it. If you get an error while executing a query, rewrite the query and try again.\n",
    "\n",
    "DO NOT make any DML statements (INSERT, UPDATE, DELETE, DROP etc.) to the database.\n",
    "\n",
    "If the question does not seem related to the database, just return \"I don't know\" as the answer.\n",
    "\n",
    "Here are some examples of user inputs and their corresponding SQL queries:\"\"\"\n",
    "\n",
    "few_shot_prompt = FewShotPromptTemplate(\n",
    "    example_selector=example_selector,\n",
    "    example_prompt=PromptTemplate.from_template(\n",
    "        \"User input: {input}\\nSQL query: {query}\"\n",
    "    ),\n",
    "    input_variables=[\"input\", \"dialect\", \"top_k\"],\n",
    "    prefix=system_prefix,\n",
    "    suffix=\"\",\n",
    ")\n",
    "\n",
    "full_prompt = ChatPromptTemplate.from_messages(\n",
    "    [\n",
    "        SystemMessagePromptTemplate(prompt=few_shot_prompt),\n",
    "        (\"human\", \"{input}\"),\n",
    "        MessagesPlaceholder(\"agent_scratchpad\"),\n",
    "    ]\n",
    ")"
   ]
  },
  {
   "cell_type": "code",
   "execution_count": 38,
   "metadata": {},
   "outputs": [
    {
     "data": {
      "text/plain": [
       "{'input': 'Can you name the customer with Basic Subscriptions?',\n",
       " 'output': 'The customers with Basic subscriptions are John Doe, Emily Brown, David Martinez, and Emma Thomas.'}"
      ]
     },
     "execution_count": 38,
     "metadata": {},
     "output_type": "execute_result"
    }
   ],
   "source": [
    "agent = create_sql_agent(\n",
    "    llm=llm,\n",
    "    db=db,\n",
    "    prompt=full_prompt,\n",
    "    verbose=False, #Change this to True if you want agent execution details\n",
    "    agent_type=\"openai-tools\",\n",
    ")\n",
    "agent.invoke({\"input\": \"Can you name the customer with Basic Subscriptions?\"})"
   ]
  },
  {
   "cell_type": "code",
   "execution_count": 81,
   "metadata": {},
   "outputs": [],
   "source": [
    "import ast\n",
    "import re\n",
    "\n",
    "\n",
    "def query_as_list(db, query):\n",
    "    res = db.run(query)\n",
    "    res = [el for sub in ast.literal_eval(res) for el in sub if el]\n",
    "    res = [re.sub(r\"\\b\\d+\\b\", \"\", string).strip() for string in res]\n",
    "    return list(set(res))\n",
    "\n",
    "\n",
    "customer_names = query_as_list(db, \"SELECT name FROM Customers\")\n",
    "plan_details = query_as_list(db, \"SELECT description FROM Plans\")\n",
    "\n",
    "\n",
    "from langchain.agents.agent_toolkits import create_retriever_tool\n",
    "\n",
    "vector_db = FAISS.from_texts(customer_names + plan_details, OpenAIEmbeddings())\n",
    "retriever = vector_db.as_retriever(search_kwargs={\"k\": 1})\n",
    "description = \"\"\"Use to look up values to filter on. Input is an approximate spelling of the proper noun, output is \\\n",
    "valid proper nouns. Use the noun most similar to the search.\"\"\"\n",
    "retriever_tool = create_retriever_tool(\n",
    "    retriever,\n",
    "    name=\"search_proper_nouns\",\n",
    "    description=description,\n",
    ")\n",
    "\n",
    "table_names = db.get_usable_table_names()\n",
    "\n",
    "system = \"\"\"You are an agent designed to interact with a SQL database.\n",
    "Given an input question, create a syntactically correct {dialect} query to run, then look at the results of the query and return the answer.\n",
    "Unless the user specifies a specific number of examples they wish to obtain, always limit your query to at most {top_k} results.\n",
    "You can order the results by a relevant column to return the most interesting examples in the database.\n",
    "Never query for all the columns from a specific table, only ask for the relevant columns given the question.\n",
    "You have access to tools for interacting with the database.\n",
    "Only use the given tools. Only use the information returned by the tools to construct your final answer.\n",
    "You MUST double check your query before executing it. If you get an error while executing a query, rewrite the query and try again.\n",
    "\n",
    "DO NOT make any DML statements (INSERT, UPDATE, DELETE, DROP etc.) to the database.\n",
    "\n",
    "If you need to filter on a proper noun like customer name or a plan description, you must ALWAYS first look up the filter value using the \"search_proper_nouns\" tool!\n",
    "\n",
    "You have access to the following tables: {table_names}.\n",
    "\n",
    "If the question does not seem related to the database, just return \"I don't know\" as the answer.\"\"\"\n",
    "\n",
    "prompt = ChatPromptTemplate.from_messages(\n",
    "    [(\"system\", system), (\"human\", \"{input}\"), MessagesPlaceholder(\"agent_scratchpad\")]\n",
    ")\n",
    "\n",
    "agent = create_sql_agent(\n",
    "    llm=llm,\n",
    "    db=db,\n",
    "    extra_tools=[retriever_tool],\n",
    "    prompt=prompt,\n",
    "    agent_type=\"openai-tools\",\n",
    "    verbose=True,\n",
    ")"
   ]
  },
  {
   "cell_type": "code",
   "execution_count": 61,
   "metadata": {},
   "outputs": [
    {
     "name": "stdout",
     "output_type": "stream",
     "text": [
      "\n",
      "\n",
      "\u001b[1m> Entering new SQL Agent Executor chain...\u001b[0m\n",
      "\u001b[32;1m\u001b[1;3m\n",
      "Invoking: `search_proper_nouns` with `{'query': 'Bobb'}`\n",
      "\n",
      "\n",
      "\u001b[0m\u001b[36;1m\u001b[1;3mBob Johnson\u001b[0m\u001b[32;1m\u001b[1;3m\n",
      "Invoking: `sql_db_query` with `SELECT * FROM Customers WHERE name = 'Bob Johnson'`\n",
      "\n",
      "\n",
      "\u001b[0m\u001b[36;1m\u001b[1;3m[(3, 'Bob Johnson', '789 Oak St, Anycity, USA', '+1122334455')]\u001b[0m\u001b[32;1m\u001b[1;3mYes, there is a customer with the name Bob Johnson. Their address is 789 Oak St, Anycity, USA and their phone number is +1122334455.\u001b[0m\n",
      "\n",
      "\u001b[1m> Finished chain.\u001b[0m\n"
     ]
    },
    {
     "data": {
      "text/plain": [
       "{'input': 'Is there a customer with name Bobb?',\n",
       " 'output': 'Yes, there is a customer with the name Bob Johnson. Their address is 789 Oak St, Anycity, USA and their phone number is +1122334455.'}"
      ]
     },
     "execution_count": 61,
     "metadata": {},
     "output_type": "execute_result"
    }
   ],
   "source": [
    "agent.invoke({\"input\": \"Is there a customer with name Bobb?\"})"
   ]
  },
  {
   "cell_type": "code",
   "execution_count": 82,
   "metadata": {},
   "outputs": [
    {
     "name": "stdout",
     "output_type": "stream",
     "text": [
      "\n",
      "\n",
      "\u001b[1m> Entering new SQL Agent Executor chain...\u001b[0m\n",
      "\u001b[32;1m\u001b[1;3m\n",
      "Invoking: `search_proper_nouns` with `{'query': 'unlimited data'}`\n",
      "\n",
      "\n",
      "\u001b[0m\u001b[36;1m\u001b[1;3mPremium plan with unlimited data and minutes\u001b[0m\u001b[32;1m\u001b[1;3m\n",
      "Invoking: `sql_db_query` with `SELECT * FROM Plans WHERE description = 'Premium plan with unlimited data and minutes'`\n",
      "\n",
      "\n",
      "\u001b[0m\u001b[36;1m\u001b[1;3m[(3, 'Premium', 'Premium plan with unlimited data and minutes', 79.99)]\u001b[0m\u001b[32;1m\u001b[1;3mThe plan that has unlimited data is the \"Premium\" plan, which costs $79.99.\u001b[0m\n",
      "\n",
      "\u001b[1m> Finished chain.\u001b[0m\n"
     ]
    },
    {
     "data": {
      "text/plain": [
       "{'input': 'Which plan has unlimited data?',\n",
       " 'output': 'The plan that has unlimited data is the \"Premium\" plan, which costs $79.99.'}"
      ]
     },
     "execution_count": 82,
     "metadata": {},
     "output_type": "execute_result"
    }
   ],
   "source": [
    "agent.invoke({\"input\": \"Which plan has unlimited data?\"})"
   ]
  },
  {
   "cell_type": "code",
   "execution_count": null,
   "metadata": {},
   "outputs": [],
   "source": []
  }
 ],
 "metadata": {
  "kernelspec": {
   "display_name": "Python 3",
   "language": "python",
   "name": "python3"
  },
  "language_info": {
   "codemirror_mode": {
    "name": "ipython",
    "version": 3
   },
   "file_extension": ".py",
   "mimetype": "text/x-python",
   "name": "python",
   "nbconvert_exporter": "python",
   "pygments_lexer": "ipython3",
   "version": "3.11.5"
  }
 },
 "nbformat": 4,
 "nbformat_minor": 2
}
